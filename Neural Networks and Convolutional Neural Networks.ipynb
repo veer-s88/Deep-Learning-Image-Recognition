{
 "cells": [
  {
   "cell_type": "markdown",
   "id": "96171b56",
   "metadata": {},
   "source": [
    "## Import and view mnist data"
   ]
  },
  {
   "cell_type": "code",
   "execution_count": 2,
   "id": "04ae73c1",
   "metadata": {},
   "outputs": [],
   "source": [
    "# import packages\n",
    "from keras.datasets import mnist\n",
    "from keras.preprocessing.image import load_img, array_to_img\n",
    "from keras.utils.np_utils import to_categorical\n",
    "from keras.models import Sequential\n",
    "from keras.layers import Dense\n",
    "\n",
    "import numpy as np\n",
    "import matplotlib.pyplot as plt\n",
    "%matplotlib inline"
   ]
  },
  {
   "cell_type": "code",
   "execution_count": 3,
   "id": "52bdde82",
   "metadata": {},
   "outputs": [
    {
     "name": "stdout",
     "output_type": "stream",
     "text": [
      "Downloading data from https://storage.googleapis.com/tensorflow/tf-keras-datasets/mnist.npz\n",
      "11493376/11490434 [==============================] - 1s 0us/step\n",
      "11501568/11490434 [==============================] - 1s 0us/step\n"
     ]
    }
   ],
   "source": [
    "# load image data from mnist dataset\n",
    "(x_train, y_train), (x_test, y_test) = mnist.load_data()"
   ]
  },
  {
   "cell_type": "code",
   "execution_count": 33,
   "id": "dd8321a5",
   "metadata": {},
   "outputs": [
    {
     "data": {
      "text/plain": [
       "<matplotlib.image.AxesImage at 0x267cca51280>"
      ]
     },
     "execution_count": 33,
     "metadata": {},
     "output_type": "execute_result"
    },
    {
     "data": {
      "image/png": "[encoded data removed]",
      "text/plain": [
       "<Figure size 432x288 with 1 Axes>"
      ]
     },
     "metadata": {
      "needs_background": "light"
     },
     "output_type": "display_data"
    }
   ],
   "source": [
    "# show an example of what the data looks like, converting the numpy array into an image\n",
    "plt.imshow(x_train[0], cmap='gray')"
   ]
  },
  {
   "cell_type": "markdown",
   "id": "10b9afe4",
   "metadata": {},
   "source": [
    "## Pre-process data"
   ]
  },
  {
   "cell_type": "code",
   "execution_count": 4,
   "id": "f88557f8",
   "metadata": {},
   "outputs": [
    {
     "name": "stdout",
     "output_type": "stream",
     "text": [
      "(60000, 28, 28)\n",
      "(60000,)\n",
      "(10000, 28, 28)\n",
      "(10000,)\n"
     ]
    }
   ],
   "source": [
    "# check the shape of each dataset\n",
    "print(x_train.shape)\n",
    "print(y_train.shape)\n",
    "print(x_test.shape)\n",
    "print(y_test.shape)"
   ]
  },
  {
   "cell_type": "code",
   "execution_count": 13,
   "id": "d62d5fab",
   "metadata": {},
   "outputs": [],
   "source": [
    "# reformat the features of the dataset and divide by 255 to keep all values between 0 and 1\n",
    "x_train_reformat = x_train.reshape(60000, 28*28).astype('float32') / 255\n",
    "x_test_reformat = x_test.reshape(10000, 28*28).astype('float32') / 255"
   ]
  },
  {
   "cell_type": "code",
   "execution_count": 9,
   "id": "b86d86a8",
   "metadata": {},
   "outputs": [
    {
     "data": {
      "text/plain": [
       "5"
      ]
     },
     "execution_count": 9,
     "metadata": {},
     "output_type": "execute_result"
    }
   ],
   "source": [
    "# check what the labels look like\n",
    "y_train[0]"
   ]
  },
  {
   "cell_type": "code",
   "execution_count": 12,
   "id": "6da25128",
   "metadata": {},
   "outputs": [],
   "source": [
    "# convert the digit labels to categories where only one digit is 1 indicating what the label is\n",
    "y_train_category = to_categorical(y_train, num_classes=10)\n",
    "y_test_category = to_categorical(y_test, num_classes=10)"
   ]
  },
  {
   "cell_type": "code",
   "execution_count": 11,
   "id": "3a905350",
   "metadata": {},
   "outputs": [
    {
     "data": {
      "text/plain": [
       "array([0., 0., 0., 0., 0., 1., 0., 0., 0., 0.], dtype=float32)"
      ]
     },
     "execution_count": 11,
     "metadata": {},
     "output_type": "execute_result"
    }
   ],
   "source": [
    "y_train_category[0]"
   ]
  },
  {
   "cell_type": "markdown",
   "id": "7d5a54e4",
   "metadata": {},
   "source": [
    "## Build a model - Neural Network"
   ]
  },
  {
   "cell_type": "code",
   "execution_count": 18,
   "id": "b1323b0a",
   "metadata": {},
   "outputs": [
    {
     "name": "stdout",
     "output_type": "stream",
     "text": [
      "Model: \"sequential\"\n",
      "_________________________________________________________________\n",
      "Layer (type)                 Output Shape              Param #   \n",
      "=================================================================\n",
      "dense (Dense)                (None, 512)               401920    \n",
      "_________________________________________________________________\n",
      "dense_1 (Dense)              (None, 512)               262656    \n",
      "_________________________________________________________________\n",
      "dense_2 (Dense)              (None, 10)                5130      \n",
      "=================================================================\n",
      "Total params: 669,706\n",
      "Trainable params: 669,706\n",
      "Non-trainable params: 0\n",
      "_________________________________________________________________\n"
     ]
    }
   ],
   "source": [
    "# Build a model\n",
    "model = Sequential()\n",
    "model.add(Dense(512, activation='relu', input_dim=784))\n",
    "model.add(Dense(512, activation='relu'))\n",
    "model.add(Dense(10, activation='softmax'))\n",
    "\n",
    "model.summary()"
   ]
  },
  {
   "cell_type": "code",
   "execution_count": 19,
   "id": "29768266",
   "metadata": {},
   "outputs": [],
   "source": [
    "# actually create the model into memory\n",
    "model.compile(optimizer='adam', loss='categorical_crossentropy', metrics=['accuracy'])"
   ]
  },
  {
   "cell_type": "code",
   "execution_count": 20,
   "id": "c7cefefd",
   "metadata": {},
   "outputs": [
    {
     "name": "stdout",
     "output_type": "stream",
     "text": [
      "Epoch 1/20\n",
      "1875/1875 [==============================] - 6s 3ms/step - loss: 0.1858 - accuracy: 0.9433 - val_loss: 0.0960 - val_accuracy: 0.9726\n",
      "Epoch 2/20\n",
      "1875/1875 [==============================] - 6s 3ms/step - loss: 0.0814 - accuracy: 0.9750 - val_loss: 0.0756 - val_accuracy: 0.9755\n",
      "Epoch 3/20\n",
      "1875/1875 [==============================] - 6s 3ms/step - loss: 0.0561 - accuracy: 0.9827 - val_loss: 0.0928 - val_accuracy: 0.9732\n",
      "Epoch 4/20\n",
      "1875/1875 [==============================] - 6s 3ms/step - loss: 0.0410 - accuracy: 0.9870 - val_loss: 0.0681 - val_accuracy: 0.9788\n",
      "Epoch 5/20\n",
      "1875/1875 [==============================] - 6s 3ms/step - loss: 0.0332 - accuracy: 0.9896 - val_loss: 0.1065 - val_accuracy: 0.9735\n",
      "Epoch 6/20\n",
      "1875/1875 [==============================] - 6s 3ms/step - loss: 0.0303 - accuracy: 0.9901 - val_loss: 0.0860 - val_accuracy: 0.9807\n",
      "Epoch 7/20\n",
      "1875/1875 [==============================] - 6s 3ms/step - loss: 0.0222 - accuracy: 0.9928 - val_loss: 0.0820 - val_accuracy: 0.9810\n",
      "Epoch 8/20\n",
      "1875/1875 [==============================] - 6s 3ms/step - loss: 0.0221 - accuracy: 0.9933 - val_loss: 0.0894 - val_accuracy: 0.9812\n",
      "Epoch 9/20\n",
      "1875/1875 [==============================] - 6s 3ms/step - loss: 0.0189 - accuracy: 0.9941 - val_loss: 0.1138 - val_accuracy: 0.9779\n",
      "Epoch 10/20\n",
      "1875/1875 [==============================] - 7s 3ms/step - loss: 0.0206 - accuracy: 0.9937 - val_loss: 0.0940 - val_accuracy: 0.9801\n",
      "Epoch 11/20\n",
      "1875/1875 [==============================] - 7s 3ms/step - loss: 0.0153 - accuracy: 0.9954 - val_loss: 0.1062 - val_accuracy: 0.9799\n",
      "Epoch 12/20\n",
      "1875/1875 [==============================] - 7s 3ms/step - loss: 0.0177 - accuracy: 0.9948 - val_loss: 0.1196 - val_accuracy: 0.9799\n",
      "Epoch 13/20\n",
      "1875/1875 [==============================] - 7s 4ms/step - loss: 0.0125 - accuracy: 0.9962 - val_loss: 0.1055 - val_accuracy: 0.9810\n",
      "Epoch 14/20\n",
      "1875/1875 [==============================] - 7s 3ms/step - loss: 0.0154 - accuracy: 0.9957 - val_loss: 0.1113 - val_accuracy: 0.9812\n",
      "Epoch 15/20\n",
      "1875/1875 [==============================] - 7s 4ms/step - loss: 0.0122 - accuracy: 0.9964 - val_loss: 0.1018 - val_accuracy: 0.9814\n",
      "Epoch 16/20\n",
      "1875/1875 [==============================] - 7s 4ms/step - loss: 0.0134 - accuracy: 0.9963 - val_loss: 0.1338 - val_accuracy: 0.9811\n",
      "Epoch 17/20\n",
      "1875/1875 [==============================] - 7s 4ms/step - loss: 0.0145 - accuracy: 0.9962 - val_loss: 0.1563 - val_accuracy: 0.9785\n",
      "Epoch 18/20\n",
      "1875/1875 [==============================] - 7s 4ms/step - loss: 0.0142 - accuracy: 0.9965 - val_loss: 0.1289 - val_accuracy: 0.9808\n",
      "Epoch 19/20\n",
      "1875/1875 [==============================] - 7s 4ms/step - loss: 0.0126 - accuracy: 0.9969 - val_loss: 0.1524 - val_accuracy: 0.9807\n",
      "Epoch 20/20\n",
      "1875/1875 [==============================] - 7s 4ms/step - loss: 0.0140 - accuracy: 0.9968 - val_loss: 0.1306 - val_accuracy: 0.9821\n"
     ]
    }
   ],
   "source": [
    "# fit the model to the training data and check accuracy with test data\n",
    "history = model.fit(x_train_reformat, y_train_category, epochs=20, validation_data=(x_test_reformat, y_test_category))"
   ]
  },
  {
   "cell_type": "code",
   "execution_count": 31,
   "id": "7e7e00f6",
   "metadata": {},
   "outputs": [
    {
     "data": {
      "text/plain": [
       "<matplotlib.legend.Legend at 0x267cc6d65e0>"
      ]
     },
     "execution_count": 31,
     "metadata": {},
     "output_type": "execute_result"
    },
    {
     "data": {
      "image/png": "[encoded data removed]",
      "text/plain": [
       "<Figure size 864x432 with 1 Axes>"
      ]
     },
     "metadata": {
      "needs_background": "light"
     },
     "output_type": "display_data"
    }
   ],
   "source": [
    "plt.figure(figsize=(12,6))\n",
    "plt.plot(np.arange(1,21,1), history.history['accuracy'], label='training_accuracy')\n",
    "plt.plot(np.arange(1,21,1), history.history['val_accuracy'], label='test_accuracy')\n",
    "plt.xlabel('epoch')\n",
    "plt.ylabel('accuracy')\n",
    "plt.title('Model Accuracy for each epoch of training')\n",
    "plt.legend()"
   ]
  },
  {
   "cell_type": "markdown",
   "id": "b4a47f16",
   "metadata": {},
   "source": [
    "## Build a Model - Convolutional Neural Network "
   ]
  },
  {
   "cell_type": "markdown",
   "id": "02ee4cec",
   "metadata": {},
   "source": [
    "Before building the convolutional neural network model, we are required to do some preprocessing of the initial training and testing data. The mnist images only have a depth of 1, only one colour channel because the images are grayscale, not rgb but we must explicitly state this."
   ]
  },
  {
   "cell_type": "code",
   "execution_count": 36,
   "id": "d6268983",
   "metadata": {},
   "outputs": [
    {
     "name": "stdout",
     "output_type": "stream",
     "text": [
      "(60000, 28, 28)\n",
      "(10000, 28, 28)\n"
     ]
    }
   ],
   "source": [
    "# Check the shape of the training and test features data\n",
    "print(x_train.shape)\n",
    "print(x_test.shape)"
   ]
  },
  {
   "cell_type": "code",
   "execution_count": 37,
   "id": "0d99e467",
   "metadata": {},
   "outputs": [],
   "source": [
    "# reformat data\n",
    "x_train_cnn = x_train.reshape(60000, 28, 28, 1).astype('float32') / 255\n",
    "x_test_cnn = x_test.reshape(10000, 28, 28, 1).astype('float32') / 255"
   ]
  },
  {
   "cell_type": "code",
   "execution_count": 46,
   "id": "0f7a70d6",
   "metadata": {},
   "outputs": [],
   "source": [
    "y_train_category_cnn = to_categorical(y_train, 10)\n",
    "y_test_category_cnn = to_categorical(y_test, 10)"
   ]
  },
  {
   "cell_type": "code",
   "execution_count": 47,
   "id": "2b8b49e9",
   "metadata": {},
   "outputs": [],
   "source": [
    "# import the different layers for convolutional neural network model\n",
    "from keras.layers import Conv2D, Flatten, MaxPooling2D"
   ]
  },
  {
   "cell_type": "code",
   "execution_count": 50,
   "id": "f44e5667",
   "metadata": {},
   "outputs": [
    {
     "name": "stdout",
     "output_type": "stream",
     "text": [
      "Model: \"sequential_3\"\n",
      "_________________________________________________________________\n",
      "Layer (type)                 Output Shape              Param #   \n",
      "=================================================================\n",
      "conv2d_2 (Conv2D)            (None, 28, 28, 32)        832       \n",
      "_________________________________________________________________\n",
      "max_pooling2d (MaxPooling2D) (None, 14, 14, 32)        0         \n",
      "_________________________________________________________________\n",
      "conv2d_3 (Conv2D)            (None, 14, 14, 64)        51264     \n",
      "_________________________________________________________________\n",
      "max_pooling2d_1 (MaxPooling2 (None, 7, 7, 64)          0         \n",
      "_________________________________________________________________\n",
      "flatten (Flatten)            (None, 3136)              0         \n",
      "_________________________________________________________________\n",
      "dense_3 (Dense)              (None, 1024)              3212288   \n",
      "_________________________________________________________________\n",
      "dense_4 (Dense)              (None, 10)                10250     \n",
      "=================================================================\n",
      "Total params: 3,274,634\n",
      "Trainable params: 3,274,634\n",
      "Non-trainable params: 0\n",
      "_________________________________________________________________\n"
     ]
    }
   ],
   "source": [
    "# create the structure for the convolutional neural network model\n",
    "model_cnn = Sequential()\n",
    "\n",
    "model_cnn.add(Conv2D(32, activation='relu', kernel_size=(5,5), padding='same', input_shape=(28,28,1)))\n",
    "model_cnn.add(MaxPooling2D())\n",
    "\n",
    "model_cnn.add(Conv2D(64, activation='relu', kernel_size=(5,5), padding='same'))\n",
    "model_cnn.add(MaxPooling2D())\n",
    "\n",
    "model_cnn.add(Flatten())\n",
    "\n",
    "model_cnn.add(Dense(1024, activation='relu'))\n",
    "model_cnn.add(Dense(10, activation='softmax'))\n",
    "\n",
    "model_cnn.summary()"
   ]
  },
  {
   "cell_type": "code",
   "execution_count": 51,
   "id": "4435fcd0",
   "metadata": {},
   "outputs": [],
   "source": [
    "# compile the model, create the model into memory\n",
    "model_cnn.compile(optimizer='adam', loss='categorical_crossentropy', metrics=['accuracy'])"
   ]
  },
  {
   "cell_type": "code",
   "execution_count": 53,
   "id": "a0dff6a3",
   "metadata": {},
   "outputs": [
    {
     "name": "stdout",
     "output_type": "stream",
     "text": [
      "Epoch 1/5\n",
      "1875/1875 [==============================] - 66s 35ms/step - loss: 0.0349 - accuracy: 0.9898 - val_loss: 0.0367 - val_accuracy: 0.9886\n",
      "Epoch 2/5\n",
      "1875/1875 [==============================] - 71s 38ms/step - loss: 0.0238 - accuracy: 0.9929 - val_loss: 0.0285 - val_accuracy: 0.9908\n",
      "Epoch 3/5\n",
      "1875/1875 [==============================] - 70s 38ms/step - loss: 0.0175 - accuracy: 0.9944 - val_loss: 0.0262 - val_accuracy: 0.9924\n",
      "Epoch 4/5\n",
      "1875/1875 [==============================] - 73s 39ms/step - loss: 0.0131 - accuracy: 0.9958 - val_loss: 0.0238 - val_accuracy: 0.9933\n",
      "Epoch 5/5\n",
      "1875/1875 [==============================] - 74s 39ms/step - loss: 0.0115 - accuracy: 0.9961 - val_loss: 0.0346 - val_accuracy: 0.9906\n"
     ]
    }
   ],
   "source": [
    "# fit the model to the training data and validate on testing data\n",
    "history = model_cnn.fit(x_train_cnn, y_train_category_cnn, epochs=5, validation_data=(x_test_cnn, y_test_category_cnn))"
   ]
  },
  {
   "cell_type": "code",
   "execution_count": 55,
   "id": "a2e770fe",
   "metadata": {},
   "outputs": [
    {
     "data": {
      "text/plain": [
       "<matplotlib.legend.Legend at 0x267ce4be550>"
      ]
     },
     "execution_count": 55,
     "metadata": {},
     "output_type": "execute_result"
    },
    {
     "data": {
      "image/png": "[encoded data removed]",
      "text/plain": [
       "<Figure size 864x432 with 1 Axes>"
      ]
     },
     "metadata": {
      "needs_background": "light"
     },
     "output_type": "display_data"
    }
   ],
   "source": [
    "# plot the training and testing accuracy of the model\n",
    "plt.figure(figsize=(12,6))\n",
    "plt.plot(np.arange(1,6,1), history.history['accuracy'], label='training_accuracy')\n",
    "plt.plot(np.arange(1,6,1), history.history['val_accuracy'], label='testing_accuracy')\n",
    "plt.title('Convolutional Neural Network Model - training and testing accuracy')\n",
    "plt.xlabel('epochs')\n",
    "plt.ylabel('accuracy')\n",
    "plt.legend()"
   ]
  },
  {
   "cell_type": "markdown",
   "id": "c35b1b69",
   "metadata": {},
   "source": [
    "We can conclude that the convolutional neural network outperforms the regular neural network model. The convolutional layer accounts for translation invariance which means that it can spot a pattern anywhere across an image as the 5x5 kernel goes acroos the whole image. The 32 output nodes for the first convolutional layer indicates there are 32 different filters for the convolutional layer meaning it can detect 32 different patterns."
   ]
  },
  {
   "cell_type": "code",
   "execution_count": null,
   "id": "a2edbf9a",
   "metadata": {},
   "outputs": [],
   "source": []
  }
 ],
 "metadata": {
  "kernelspec": {
   "display_name": "Python 3 (ipykernel)",
   "language": "python",
   "name": "python3"
  },
  "language_info": {
   "codemirror_mode": {
    "name": "ipython",
    "version": 3
   },
   "file_extension": ".py",
   "mimetype": "text/x-python",
   "name": "python",
   "nbconvert_exporter": "python",
   "pygments_lexer": "ipython3",
   "version": "3.8.8"
  }
 },
 "nbformat": 4,
 "nbformat_minor": 5
}
